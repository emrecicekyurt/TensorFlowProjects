{
  "nbformat": 4,
  "nbformat_minor": 0,
  "metadata": {
    "colab": {
      "name": "Transfer-Learning-TF-FeatureExtraction.ipynb",
      "provenance": [],
      "authorship_tag": "ABX9TyMg2vKDiGmgiB46G0LdawnF",
      "include_colab_link": true
    },
    "kernelspec": {
      "name": "python3",
      "display_name": "Python 3"
    },
    "language_info": {
      "name": "python"
    },
    "accelerator": "GPU",
    "gpuClass": "standard"
  },
  "cells": [
    {
      "cell_type": "markdown",
      "metadata": {
        "id": "view-in-github",
        "colab_type": "text"
      },
      "source": [
        "<a href=\"https://colab.research.google.com/github/emrecicekyurt/TensorFlowTutorialProjects/blob/main/Transfer_Learning_TF_FeatureExtraction.ipynb\" target=\"_parent\"><img src=\"https://colab.research.google.com/assets/colab-badge.svg\" alt=\"Open In Colab\"/></a>"
      ]
    },
    {
      "cell_type": "markdown",
      "source": [
        "### 1. Downlaod the data and become one with it"
      ],
      "metadata": {
        "id": "IoRu4xdTrxO8"
      }
    },
    {
      "cell_type": "code",
      "source": [
        "# Get the data\n",
        "import zipfile\n",
        "\n",
        "#Download the data\n",
        "!wget https://storage.googleapis.com/ztm_tf_course/food_vision/10_food_classes_10_percent.zip\n",
        "\n",
        "zip_ref = zipfile.ZipFile(\"10_food_classes_10_percent.zip\")\n",
        "zip_ref.extractall()\n",
        "zip_ref.close()"
      ],
      "metadata": {
        "colab": {
          "base_uri": "https://localhost:8080/"
        },
        "id": "bwl1u6lyr-oo",
        "outputId": "6feeff10-f012-47be-fd5c-88cc9dd70ad4"
      },
      "execution_count": 13,
      "outputs": [
        {
          "output_type": "stream",
          "name": "stdout",
          "text": [
            "--2022-06-28 17:03:47--  https://storage.googleapis.com/ztm_tf_course/food_vision/10_food_classes_10_percent.zip\n",
            "Resolving storage.googleapis.com (storage.googleapis.com)... 142.250.97.128, 74.125.196.128, 74.125.134.128, ...\n",
            "Connecting to storage.googleapis.com (storage.googleapis.com)|142.250.97.128|:443... connected.\n",
            "HTTP request sent, awaiting response... 200 OK\n",
            "Length: 168546183 (161M) [application/zip]\n",
            "Saving to: ‘10_food_classes_10_percent.zip.1’\n",
            "\n",
            "10_food_classes_10_ 100%[===================>] 160.74M   193MB/s    in 0.8s    \n",
            "\n",
            "2022-06-28 17:03:48 (193 MB/s) - ‘10_food_classes_10_percent.zip.1’ saved [168546183/168546183]\n",
            "\n"
          ]
        }
      ]
    },
    {
      "cell_type": "code",
      "source": [
        "# How many images in each folder\n",
        "import os\n",
        "\n",
        "# Walk through data directory and list number of files\n",
        "for dirpath, dirnames, filenames in os.walk(\"10_food_classes_10_percent\"):\n",
        "  print(f\"There are {len(dirnames)} directories and {len(filenames)} images in {dirpath}\") "
      ],
      "metadata": {
        "colab": {
          "base_uri": "https://localhost:8080/"
        },
        "id": "g1_7zQCSsd7S",
        "outputId": "ee59119a-8aa6-4c97-f9cc-d1e012ded0a2"
      },
      "execution_count": 14,
      "outputs": [
        {
          "output_type": "stream",
          "name": "stdout",
          "text": [
            "There are 2 directories and 0 images in 10_food_classes_10_percent\n",
            "There are 10 directories and 0 images in 10_food_classes_10_percent/test\n",
            "There are 0 directories and 250 images in 10_food_classes_10_percent/test/fried_rice\n",
            "There are 0 directories and 250 images in 10_food_classes_10_percent/test/chicken_wings\n",
            "There are 0 directories and 250 images in 10_food_classes_10_percent/test/hamburger\n",
            "There are 0 directories and 250 images in 10_food_classes_10_percent/test/grilled_salmon\n",
            "There are 0 directories and 250 images in 10_food_classes_10_percent/test/sushi\n",
            "There are 0 directories and 250 images in 10_food_classes_10_percent/test/pizza\n",
            "There are 0 directories and 250 images in 10_food_classes_10_percent/test/ice_cream\n",
            "There are 0 directories and 250 images in 10_food_classes_10_percent/test/steak\n",
            "There are 0 directories and 250 images in 10_food_classes_10_percent/test/ramen\n",
            "There are 0 directories and 250 images in 10_food_classes_10_percent/test/chicken_curry\n",
            "There are 10 directories and 0 images in 10_food_classes_10_percent/train\n",
            "There are 0 directories and 75 images in 10_food_classes_10_percent/train/fried_rice\n",
            "There are 0 directories and 75 images in 10_food_classes_10_percent/train/chicken_wings\n",
            "There are 0 directories and 75 images in 10_food_classes_10_percent/train/hamburger\n",
            "There are 0 directories and 75 images in 10_food_classes_10_percent/train/grilled_salmon\n",
            "There are 0 directories and 75 images in 10_food_classes_10_percent/train/sushi\n",
            "There are 0 directories and 75 images in 10_food_classes_10_percent/train/pizza\n",
            "There are 0 directories and 75 images in 10_food_classes_10_percent/train/ice_cream\n",
            "There are 0 directories and 75 images in 10_food_classes_10_percent/train/steak\n",
            "There are 0 directories and 75 images in 10_food_classes_10_percent/train/ramen\n",
            "There are 0 directories and 75 images in 10_food_classes_10_percent/train/chicken_curry\n"
          ]
        }
      ]
    },
    {
      "cell_type": "markdown",
      "source": [
        "### 2. Creating Data Loaders\n",
        "\n",
        "We will use the ImageDataGenerator to load the images into batches"
      ],
      "metadata": {
        "id": "4ItqWCRUtmYZ"
      }
    },
    {
      "cell_type": "code",
      "source": [
        "# Setting up data inputs\n",
        "from tensorflow.keras.preprocessing.image import ImageDataGenerator\n",
        "\n",
        "IMAGE_SHAPE = (224, 224)\n",
        "BATCH_SIZE = 32\n",
        "\n",
        "train_dir = \"10_food_classes_10_percent/train/\"\n",
        "test_dir = \"10_food_classes_10_percent/test/\"\n",
        "\n",
        "train_datagen = ImageDataGenerator(rescale = 1/255.)\n",
        "test_datagen = ImageDataGenerator(rescale = 1/255.)\n",
        "\n",
        "print(\"Training images: \")\n",
        "train_data_10_percent = train_datagen.flow_from_directory(train_dir,\n",
        "                                                          target_size = IMAGE_SHAPE,\n",
        "                                                          batch_size= BATCH_SIZE,\n",
        "                                                          class_mode = \"categorical\")\n",
        "\n",
        "print(\"Test images: \")\n",
        "test_data_10_percent = test_datagen.flow_from_directory(test_dir,\n",
        "                                                          target_size = IMAGE_SHAPE,\n",
        "                                                          batch_size= BATCH_SIZE,\n",
        "                                                          class_mode = \"categorical\")\n"
      ],
      "metadata": {
        "colab": {
          "base_uri": "https://localhost:8080/"
        },
        "id": "JrDOm2Motxs6",
        "outputId": "dc6b4c35-3fee-4046-a99b-00f18fb822d6"
      },
      "execution_count": 15,
      "outputs": [
        {
          "output_type": "stream",
          "name": "stdout",
          "text": [
            "Training images: \n",
            "Found 750 images belonging to 10 classes.\n",
            "Test images: \n",
            "Found 2500 images belonging to 10 classes.\n"
          ]
        }
      ]
    },
    {
      "cell_type": "markdown",
      "source": [
        "### 3. Setting up Callbacks\n",
        "\n",
        "Callbacks are extra functionality that you can add to your models to be performed during or after training.\n",
        "\n",
        "* Tracking experiments with the **TensorBoard** callback\n",
        "* Model checkpoint with the **ModelCheckPoint** Callback\n",
        "* Stopping a model from training with the **EarlyStopping** callback\n"
      ],
      "metadata": {
        "id": "HZFOyxFBvcR_"
      }
    },
    {
      "cell_type": "code",
      "source": [
        "# Create TensorBoard callback\n",
        "import datetime\n",
        "import tensorflow as tf\n",
        "\n",
        "def create_tensorboard_callback(dir_name, experiement_name):\n",
        "  log_dir = dir_name +\"/\"+experiement_name+ \"/\"+datetime.datetime.now().strftime(\"%Y%m%d-%H%M%S\")\n",
        "  tensorboard_callback= tf.keras.callbacks.TensorBoard(log_dir = log_dir)\n",
        "  print(f\"Saving Tensorboard log files to : {log_dir}\")\n",
        "  return tensorboard_callback"
      ],
      "metadata": {
        "id": "3kbmBGqfw77g"
      },
      "execution_count": 16,
      "outputs": []
    },
    {
      "cell_type": "code",
      "source": [
        "## Creating models using tensorflow hub \n",
        "## Lets compare following two models\n",
        "\n",
        "resnet_url = \"https://tfhub.dev/google/imagenet/resnet_v2_50/feature_vector/5\"\n",
        "efficientnet_url = \"https://tfhub.dev/tensorflow/efficientnet/b0/feature-vector/1\"\n"
      ],
      "metadata": {
        "id": "ORaJkoOGO7SO"
      },
      "execution_count": 17,
      "outputs": []
    },
    {
      "cell_type": "code",
      "source": [
        "# Import dependencies\n",
        "import tensorflow_hub as hub\n",
        "from tensorflow.keras import layers"
      ],
      "metadata": {
        "id": "zXdYiJmsMzQa"
      },
      "execution_count": 18,
      "outputs": []
    },
    {
      "cell_type": "markdown",
      "source": [
        "## 4. Creating Models"
      ],
      "metadata": {
        "id": "unKs9DOsr-CI"
      }
    },
    {
      "cell_type": "code",
      "source": [
        "# Lets make a create model function from url\n",
        "\n",
        "def create_model(model_url, num_classes = 10):\n",
        "  \"\"\"\n",
        "  Takes  a TensorFlow hub url and creates a keras Sequential model with it \n",
        "\n",
        "  Args: \n",
        "    model_url : A TensorFlow Hub feature extraction url (str)\n",
        "    num_classes : Number of output neurons in output layer default: 10 (int)\n",
        "\n",
        "  Returns: \n",
        "    An uncompiled Keras Sequential model with model_url as feature extractor layer\n",
        "    and Dense output layer witl num_classes neurons\n",
        "  \"\"\"\n",
        "\n",
        "  # Download the pretrained \n",
        "  feature_exracter_layer = hub.KerasLayer(model_url,\n",
        "                                          trainable = False, # freeze the already learned patterns\n",
        "                                          name = \"feature-extractor\",\n",
        "                                           input_shape = IMAGE_SHAPE+(3,)) # (224,224) -> (224,224,3)\n",
        "\n",
        "  # Create the model\n",
        "\n",
        "  model = tf.keras.Sequential([\n",
        "                               feature_exracter_layer,\n",
        "                               layers.Dense(num_classes, activation= \"softmax\", name = \"output-layer\")\n",
        "  ])\n",
        "\n",
        "  return model"
      ],
      "metadata": {
        "id": "6A042qgENOWg"
      },
      "execution_count": 19,
      "outputs": []
    },
    {
      "cell_type": "code",
      "source": [
        "# Create Resnet model \n",
        "resnet_model = create_model(resnet_url, \n",
        "                            num_classes= train_data_10_percent.num_classes)"
      ],
      "metadata": {
        "id": "QoGhwnHOQBmo"
      },
      "execution_count": 20,
      "outputs": []
    },
    {
      "cell_type": "code",
      "source": [
        "resnet_model.summary()"
      ],
      "metadata": {
        "colab": {
          "base_uri": "https://localhost:8080/"
        },
        "id": "nVVc-Tx7Q-uf",
        "outputId": "a2e47c03-cb98-455b-a041-8b8a77abfadc"
      },
      "execution_count": 21,
      "outputs": [
        {
          "output_type": "stream",
          "name": "stdout",
          "text": [
            "Model: \"sequential_1\"\n",
            "_________________________________________________________________\n",
            " Layer (type)                Output Shape              Param #   \n",
            "=================================================================\n",
            " feature-extractor (KerasLay  (None, 2048)             23564800  \n",
            " er)                                                             \n",
            "                                                                 \n",
            " output-layer (Dense)        (None, 10)                20490     \n",
            "                                                                 \n",
            "=================================================================\n",
            "Total params: 23,585,290\n",
            "Trainable params: 20,490\n",
            "Non-trainable params: 23,564,800\n",
            "_________________________________________________________________\n"
          ]
        }
      ]
    },
    {
      "cell_type": "code",
      "source": [
        "# compile resnet model\n",
        "resnet_model.compile(loss = \"categorical_crossentropy\",\n",
        "                     optimizer = \"adam\",\n",
        "                     metrics = [\"accuracy\"])"
      ],
      "metadata": {
        "id": "aB4Zr7_URdO4"
      },
      "execution_count": 22,
      "outputs": []
    },
    {
      "cell_type": "code",
      "source": [
        "resnet_history = resnet_model.fit(train_data_10_percent,\n",
        "                                  epochs = 5,\n",
        "                                  steps_per_epoch = len(train_data_10_percent),\n",
        "                                  validation_data = test_data_10_percent,\n",
        "                                  validation_steps = len(test_data_10_percent),\n",
        "                                  callbacks = [create_tensorboard_callback(dir_name = \"tensorflow_hub\",\n",
        "                                                                           experiement_name=\"resnet50V2\")],\n",
        "                                  )"
      ],
      "metadata": {
        "colab": {
          "base_uri": "https://localhost:8080/"
        },
        "id": "e2kUax3UR1tQ",
        "outputId": "5b2d182b-154d-4f81-9782-443671ca6a5b"
      },
      "execution_count": 24,
      "outputs": [
        {
          "output_type": "stream",
          "name": "stdout",
          "text": [
            "Saving Tensorboard log files to : tensorflow_hub/resnet50V2/20220628-173104\n",
            "Epoch 1/5\n",
            "24/24 [==============================] - 33s 786ms/step - loss: 1.9969 - accuracy: 0.3307 - val_loss: 1.2090 - val_accuracy: 0.6348\n",
            "Epoch 2/5\n",
            "24/24 [==============================] - 17s 710ms/step - loss: 0.9190 - accuracy: 0.7333 - val_loss: 0.8919 - val_accuracy: 0.7172\n",
            "Epoch 3/5\n",
            "24/24 [==============================] - 17s 709ms/step - loss: 0.6466 - accuracy: 0.8213 - val_loss: 0.7582 - val_accuracy: 0.7560\n",
            "Epoch 4/5\n",
            "24/24 [==============================] - 17s 710ms/step - loss: 0.4879 - accuracy: 0.8813 - val_loss: 0.7007 - val_accuracy: 0.7784\n",
            "Epoch 5/5\n",
            "24/24 [==============================] - 16s 705ms/step - loss: 0.3925 - accuracy: 0.9053 - val_loss: 0.6674 - val_accuracy: 0.7860\n"
          ]
        }
      ]
    },
    {
      "cell_type": "code",
      "source": [
        "import matplotlib.pyplot as plt\n",
        "# Plotting the curves separately to make them more clear\n",
        "\n",
        "def plot_loss_curves(history):\n",
        "\n",
        "  loss = history.history[\"loss\"]\n",
        "  val_loss = history.history[\"val_loss\"]\n",
        "\n",
        "  accuracy = history.history[\"accuracy\"]\n",
        "  val_accuracy = history.history[\"val_accuracy\"]\n",
        "\n",
        "  epochs = range(len(history.history[\"loss\"]))\n",
        "\n",
        "  #plot loss\n",
        "  plt.plot(epochs, loss, label = \"training_loss\")\n",
        "  plt.plot(epochs, val_loss, label = \"val_loss\")\n",
        "  plt.title(\"loss\")\n",
        "  plt.xlabel(\"epochs\")\n",
        "  plt.legend()\n",
        "\n",
        "  #plot accuracy\n",
        "  plt.figure() \n",
        "  plt.plot(epochs, accuracy, label = \"training_accuracy\")\n",
        "  plt.plot(epochs, val_accuracy, label = \"val_accuracy\")\n",
        "  plt.title(\"accuracy\")\n",
        "  plt.xlabel(\"epochs\")\n",
        "  plt.legend()  "
      ],
      "metadata": {
        "id": "huVwx6skhZEi"
      },
      "execution_count": 26,
      "outputs": []
    },
    {
      "cell_type": "code",
      "source": [
        "plot_loss_curves(resnet_history)"
      ],
      "metadata": {
        "colab": {
          "base_uri": "https://localhost:8080/",
          "height": 573
        },
        "id": "Bbe5Oz4OhyWN",
        "outputId": "53aa4bbc-3e16-44b3-8a3b-561b51b6dd48"
      },
      "execution_count": 27,
      "outputs": [
        {
          "output_type": "display_data",
          "data": {
            "text/plain": [
              "<Figure size 432x288 with 1 Axes>"
            ],
            "image/png": "[encoded data removed]"
          },
          "metadata": {
            "needs_background": "light"
          }
        },
        {
          "output_type": "display_data",
          "data": {
            "text/plain": [
              "<Figure size 432x288 with 1 Axes>"
            ],
            "image/png": "[encoded data removed]"
          },
          "metadata": {
            "needs_background": "light"
          }
        }
      ]
    },
    {
      "cell_type": "code",
      "source": [
        "# Create efficientnet model \n",
        "efficientnet_model = create_model(efficientnet_url, \n",
        "                            num_classes= train_data_10_percent.num_classes)"
      ],
      "metadata": {
        "id": "Sqvz6sQ8iCtH"
      },
      "execution_count": 28,
      "outputs": []
    },
    {
      "cell_type": "code",
      "source": [
        "efficientnet_model.summary()"
      ],
      "metadata": {
        "colab": {
          "base_uri": "https://localhost:8080/"
        },
        "id": "QSPNQ-1Nj-_u",
        "outputId": "a6db5b74-898f-436f-c181-671bd8fd9d7d"
      },
      "execution_count": 30,
      "outputs": [
        {
          "output_type": "stream",
          "name": "stdout",
          "text": [
            "Model: \"sequential_2\"\n",
            "_________________________________________________________________\n",
            " Layer (type)                Output Shape              Param #   \n",
            "=================================================================\n",
            " feature-extractor (KerasLay  (None, 1280)             4049564   \n",
            " er)                                                             \n",
            "                                                                 \n",
            " output-layer (Dense)        (None, 10)                12810     \n",
            "                                                                 \n",
            "=================================================================\n",
            "Total params: 4,062,374\n",
            "Trainable params: 12,810\n",
            "Non-trainable params: 4,049,564\n",
            "_________________________________________________________________\n"
          ]
        }
      ]
    },
    {
      "cell_type": "code",
      "source": [
        "# compile efficientnet model\n",
        "efficientnet_model.compile(loss = \"categorical_crossentropy\",\n",
        "                     optimizer = \"adam\",\n",
        "                     metrics = [\"accuracy\"])"
      ],
      "metadata": {
        "id": "jilnqRWfkE6_"
      },
      "execution_count": 31,
      "outputs": []
    },
    {
      "cell_type": "code",
      "source": [
        "efficientnet_history = efficientnet_model.fit(train_data_10_percent,\n",
        "                                  epochs = 5,\n",
        "                                  steps_per_epoch = len(train_data_10_percent),\n",
        "                                  validation_data = test_data_10_percent,\n",
        "                                  validation_steps = len(test_data_10_percent),\n",
        "                                  callbacks = [create_tensorboard_callback(dir_name = \"tensorflow_hub\",\n",
        "                                                                           experiement_name=\"efficientnetB0\")],\n",
        "                                  )"
      ],
      "metadata": {
        "colab": {
          "base_uri": "https://localhost:8080/"
        },
        "id": "G5bdBNH4kOYF",
        "outputId": "3fa7c572-f310-4bcb-dc36-3f4121288f81"
      },
      "execution_count": 32,
      "outputs": [
        {
          "output_type": "stream",
          "name": "stdout",
          "text": [
            "Saving Tensorboard log files to : tensorflow_hub/efficientnetB0/20220628-182800\n",
            "Epoch 1/5\n",
            "24/24 [==============================] - 27s 762ms/step - loss: 1.8849 - accuracy: 0.3973 - val_loss: 1.3210 - val_accuracy: 0.7116\n",
            "Epoch 2/5\n",
            "24/24 [==============================] - 16s 680ms/step - loss: 1.0695 - accuracy: 0.7507 - val_loss: 0.8720 - val_accuracy: 0.8140\n",
            "Epoch 3/5\n",
            "24/24 [==============================] - 16s 672ms/step - loss: 0.7525 - accuracy: 0.8480 - val_loss: 0.7014 - val_accuracy: 0.8408\n",
            "Epoch 4/5\n",
            "24/24 [==============================] - 17s 710ms/step - loss: 0.6025 - accuracy: 0.8667 - val_loss: 0.6122 - val_accuracy: 0.8484\n",
            "Epoch 5/5\n",
            "24/24 [==============================] - 16s 681ms/step - loss: 0.5094 - accuracy: 0.9027 - val_loss: 0.5565 - val_accuracy: 0.8588\n"
          ]
        }
      ]
    },
    {
      "cell_type": "code",
      "source": [
        "plot_loss_curves(efficientnet_history)"
      ],
      "metadata": {
        "colab": {
          "base_uri": "https://localhost:8080/",
          "height": 573
        },
        "id": "UUPDDnMyk33r",
        "outputId": "cb081f1d-e7bf-4697-9b63-abf0ebca8afd"
      },
      "execution_count": 33,
      "outputs": [
        {
          "output_type": "display_data",
          "data": {
            "text/plain": [
              "<Figure size 432x288 with 1 Axes>"
            ],
            "image/png": "[encoded data removed]"
          },
          "metadata": {
            "needs_background": "light"
          }
        },
        {
          "output_type": "display_data",
          "data": {
            "text/plain": [
              "<Figure size 432x288 with 1 Axes>"
            ],
            "image/png": "[encoded data removed]"
          },
          "metadata": {
            "needs_background": "light"
          }
        }
      ]
    },
    {
      "cell_type": "markdown",
      "source": [
        "## 5. Comparing Model Results with TensorBoard"
      ],
      "metadata": {
        "id": "l-WJYu4NsHbl"
      }
    },
    {
      "cell_type": "code",
      "source": [
        "# Upload Tensorboard Dev Records \n",
        "!tensorboard dev upload --logdir ./tensorflow_hub/ \\\n",
        "--name \"EfficientNetB0 vs ResNet50V2\" \\\n",
        "--description \"Comparing two different TF hub feature extraction model\" \\\n",
        "--one_shot"
      ],
      "metadata": {
        "colab": {
          "base_uri": "https://localhost:8080/"
        },
        "id": "4VOs60z5sJ_5",
        "outputId": "84098840-1c73-4319-c9cf-2cd5e2c7d049"
      },
      "execution_count": 37,
      "outputs": [
        {
          "output_type": "stream",
          "name": "stdout",
          "text": [
            "\n",
            "New experiment created. View your TensorBoard at: https://tensorboard.dev/experiment/SdqaFnazQFGymCNv5iobVw/\n",
            "\n",
            "\u001b[1m[2022-06-28T19:16:26]\u001b[0m Started scanning logdir.\n",
            "\u001b[1m[2022-06-28T19:16:29]\u001b[0m Total uploaded: 60 scalars, 0 tensors, 2 binary objects (5.5 MB)\n",
            "\u001b[1m[2022-06-28T19:16:29]\u001b[0m Done scanning logdir.\n",
            "\n",
            "\n",
            "Done. View your TensorBoard at https://tensorboard.dev/experiment/SdqaFnazQFGymCNv5iobVw/\n"
          ]
        }
      ]
    },
    {
      "cell_type": "markdown",
      "source": [
        "Our TensorBoard experiments are uploaded to https://tensorboard.dev/experiment/6n4YRsQET5qiO6l3zQTAOQ/ publicly. If yo dont want to share your experiements with others dont upload them to the TensorBoard"
      ],
      "metadata": {
        "id": "ZIVXa8Obt8DO"
      }
    },
    {
      "cell_type": "code",
      "source": [
        "!tensorboard dev list"
      ],
      "metadata": {
        "colab": {
          "base_uri": "https://localhost:8080/"
        },
        "id": "r-hwB_-ttgm8",
        "outputId": "428d411a-4cd0-439f-c24f-4fbef6dc552c"
      },
      "execution_count": 38,
      "outputs": [
        {
          "output_type": "stream",
          "name": "stdout",
          "text": [
            "https://tensorboard.dev/experiment/SdqaFnazQFGymCNv5iobVw/\n",
            "\tName                 EfficientNetB0 vs ResNet50V2\n",
            "\tDescription          Comparing two different TF hub feature extraction model\n",
            "\tId                   SdqaFnazQFGymCNv5iobVw\n",
            "\tCreated              2022-06-28 19:16:26 (23 seconds ago)\n",
            "\tUpdated              2022-06-28 19:16:28 (21 seconds ago)\n",
            "\tRuns                 4\n",
            "\tTags                 5\n",
            "\tScalars              60\n",
            "\tTensor bytes         0\n",
            "\tBinary object bytes  5779172\n",
            "https://tensorboard.dev/experiment/6n4YRsQET5qiO6l3zQTAOQ/\n",
            "\tName                 EfficientNetB0 vs ResNet50V2\n",
            "\tDescription          Comparing two different TF hub feature extraction model\n",
            "\tId                   6n4YRsQET5qiO6l3zQTAOQ\n",
            "\tCreated              2022-06-28 19:08:17 (8 minutes ago)\n",
            "\tUpdated              2022-06-28 19:08:20 (8 minutes ago)\n",
            "\tRuns                 4\n",
            "\tTags                 5\n",
            "\tScalars              60\n",
            "\tTensor bytes         0\n",
            "\tBinary object bytes  5779172\n",
            "Total: 2 experiment(s)\n"
          ]
        }
      ]
    }
  ]
}